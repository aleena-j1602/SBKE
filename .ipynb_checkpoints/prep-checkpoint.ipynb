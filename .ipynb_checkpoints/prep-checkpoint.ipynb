{
 "cells": [
  {
   "cell_type": "code",
   "execution_count": null,
   "id": "34314274",
   "metadata": {
    "vscode": {
     "languageId": "plaintext"
    }
   },
   "outputs": [],
   "source": [
    "from KG.kg import ingest_Chunks, embed_text, create_nodes, create_relationship, create_vector_index\n",
    "from KG.chunking import split_data_from_file\n",
    "from KG.config import load_neo4j_graph\n",
    "from Backend.start import texts,titlelist\n",
    "import json\n",
    "graph, openAI_api, openAI_endpoint = load_neo4j_graph()"
   ]
  },
  {
   "cell_type": "markdown",
   "id": "e51c3219",
   "metadata": {},
   "source": [
    "\n",
    "for text, title in zip(texts,titlelist):\n",
    "    datas={\"title\":title,\"text\":text}\n",
    "\n",
    "    #  Load JSON file\n",
    "    file = f\"{title}.json\"\n",
    "    # Chunking\n",
    "    chunks = split_data_from_file(text)\n",
    "    # Assuming `file` is a path to your JSON file\n",
    "    with open(file, 'w', encoding='utf-8') as f:\n",
    "        json.dump(datas,f,indent=4)\n",
    "        data= json.load(f)\n",
    "\n",
    "    create_nodes(graph=graph, data=data node_label=\"Scientific Research Publications \", node_name=titles)\n",
    "    # Ingest Chunks\n",
    "    ingest_Chunks(graph=graph, chunks=chunks, node_name=titles, node_label='Chunk')"
   ]
  },
  {
   "cell_type": "markdown",
   "id": "0528a47b",
   "metadata": {},
   "source": []
  }
 ],
 "metadata": {
  "language_info": {
   "name": "python"
  }
 },
 "nbformat": 4,
 "nbformat_minor": 5
}
